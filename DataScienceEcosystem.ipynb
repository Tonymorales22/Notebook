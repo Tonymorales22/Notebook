{
  "nbformat": 4,
  "nbformat_minor": 0,
  "metadata": {
    "colab": {
      "provenance": []
    },
    "kernelspec": {
      "name": "python3",
      "display_name": "Python 3"
    },
    "language_info": {
      "name": "python"
    }
  },
  "cells": [
    {
      "cell_type": "markdown",
      "source": [
        "##Author\n",
        "Antonio De Jesus Roman Morales"
      ],
      "metadata": {
        "id": "x0HBl-2yUICC"
      }
    },
    {
      "cell_type": "markdown",
      "source": [
        "#Data Science Tools and Ecosystem"
      ],
      "metadata": {
        "id": "BPauTeU9FUQ7"
      }
    },
    {
      "cell_type": "markdown",
      "source": [
        "In this notebook, Data Science Tools and Ecosystem are sumarized"
      ],
      "metadata": {
        "id": "cGDmr786GX9M"
      }
    },
    {
      "cell_type": "markdown",
      "source": [
        "**Objectives**:\n",
        "\n",
        "*   Data Science Tools\n",
        "*   Arithmetic expressions in Python\n",
        "*   Libraries used by Data Scientists\n",
        "*   Lenguages used by Data Scientists\n",
        "\n",
        "\n",
        "\n"
      ],
      "metadata": {
        "id": "KDouPkafSzOu"
      }
    },
    {
      "cell_type": "markdown",
      "source": [
        "Some of the popular languages that Data Scientists use are:\n",
        "1. Python\n",
        "2. R\n",
        "3. SQL\n",
        "4. Julia\n",
        "5. Java"
      ],
      "metadata": {
        "id": "m7gGDSLMG42N"
      }
    },
    {
      "cell_type": "markdown",
      "source": [
        "Some of the commonly used libraries used by Data Scientists include:\n",
        "1. Dplyr (R)\n",
        "2. Pandas(Python)\n",
        "3. ggplot2 (R)\n",
        "4. Tensorflow (Python)"
      ],
      "metadata": {
        "id": "iT5ePUZQH-iS"
      }
    },
    {
      "cell_type": "markdown",
      "source": [
        "| Data Science Tools |\n",
        "| ------------------ |\n",
        "|Jupyter Notebook|\n",
        "|RStudio|\n",
        "|Spyder|\n",
        "\n"
      ],
      "metadata": {
        "id": "L-uZ4BerI1_J"
      }
    },
    {
      "cell_type": "markdown",
      "source": [
        "### Below are a few examples of evaluating arithmetic expressions in Python"
      ],
      "metadata": {
        "id": "LzPLp7lcP3X9"
      }
    },
    {
      "cell_type": "code",
      "source": [
        "#This a simple arithmetic expression to mutiply then add integers\n",
        "(3*4)+5"
      ],
      "metadata": {
        "colab": {
          "base_uri": "https://localhost:8080/"
        },
        "id": "AGT3muR7QOYI",
        "outputId": "ce95316e-78f5-4b68-85d4-f8d3100e5870"
      },
      "execution_count": 2,
      "outputs": [
        {
          "output_type": "execute_result",
          "data": {
            "text/plain": [
              "17"
            ]
          },
          "metadata": {},
          "execution_count": 2
        }
      ]
    },
    {
      "cell_type": "code",
      "source": [
        "#This will convert 200 minutes to hours by diving by 60\n",
        "200/60"
      ],
      "metadata": {
        "colab": {
          "base_uri": "https://localhost:8080/"
        },
        "id": "tRD0fWU1REIG",
        "outputId": "365c1060-0632-43f3-bca3-a7c9f48249fd"
      },
      "execution_count": 4,
      "outputs": [
        {
          "output_type": "execute_result",
          "data": {
            "text/plain": [
              "3.3333333333333335"
            ]
          },
          "metadata": {},
          "execution_count": 4
        }
      ]
    }
  ]
}